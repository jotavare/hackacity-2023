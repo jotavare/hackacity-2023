{
 "cells": [
  {
   "cell_type": "code",
   "execution_count": 20,
   "metadata": {},
   "outputs": [],
   "source": [
    "import csv\n",
    "import matplotlib.pyplot as plt"
   ]
  },
  {
   "cell_type": "code",
   "execution_count": 21,
   "metadata": {},
   "outputs": [],
   "source": [
    "# Replace 'file.csv' with your CSV file's path\n",
    "file_path = '../data/airQualityData.csv'\n",
    "\n",
    "# Open the CSV file using a context manager\n",
    "lat = []\n",
    "long = []\n",
    "time = []\n",
    "noise = []"
   ]
  },
  {
   "cell_type": "code",
   "execution_count": 22,
   "metadata": {},
   "outputs": [],
   "source": [
    "def calculate_air_quality(co, no2, o3, pm10, pm25):\n",
    "    normalized_co = float(co) / 50.0\n",
    "    normalized_no2 = float(no2) / 100.0 \n",
    "    normalized_o3 = float(o3) / 200.0\n",
    "    normalized_pm10 = float(pm10) / 50.0\n",
    "    normalized_pm25 = float(pm25) / 25.0\n",
    "    overall_iqa = (normalized_co + normalized_no2 + normalized_o3 + normalized_pm10 + normalized_pm25) / 5.0\n",
    "    return overall_iqa "
   ]
  },
  {
   "cell_type": "code",
   "execution_count": 23,
   "metadata": {},
   "outputs": [],
   "source": [
    "unique_arrays = {}\n",
    "new_string_values = []\n",
    "with open(file_path, 'r', newline='') as csvfile:\n",
    "    csv_reader = csv.reader(csvfile)\n",
    "    next(csv_reader)\n",
    "    # Iterate through each row in the CSV file\n",
    "    for row in csv_reader:\n",
    "        #print(row)\n",
    "        \n",
    "        string_value = row[1] if len(row[1]) > 0 else None\n",
    "        time = row[1].split(' ')\n",
    "        if time[1]:\n",
    "            if time[1] not in unique_arrays:\n",
    "                unique_arrays[time[1]] = []\n",
    "                # Create an empty array for the new unique value\n",
    "            if (len(row[2]) > 0):\n",
    "                airqual = float(row[2])\n",
    "                new_string_values.append(time[1])\n",
    "                # Append the occurrence to the array corresponding to the value\n",
    "                unique_arrays[time[1]].append(airqual)\n",
    "        "
   ]
  },
  {
   "cell_type": "code",
   "execution_count": 24,
   "metadata": {},
   "outputs": [
    {
     "name": "stdout",
     "output_type": "stream",
     "text": [
      "305.2156774071981\n"
     ]
    }
   ],
   "source": [
    "#print(len(new_string_values), new_string_values)\n",
    "print(sum(unique_arrays[new_string_values[4]]) / len(unique_arrays[new_string_values[4]]))\n",
    "pos_location = [[41.1484,-8.59837], [41.1484,-8.59837], [41.1719,-8.61319], [41.1652,-8.67215], [41.1625,-8.59070]]\n"
   ]
  },
  {
   "cell_type": "code",
   "execution_count": 25,
   "metadata": {},
   "outputs": [
    {
     "data": {
      "image/png": "[encoded data removed]",
      "text/plain": [
       "<Figure size 640x480 with 1 Axes>"
      ]
     },
     "metadata": {},
     "output_type": "display_data"
    }
   ],
   "source": [
    "# create graph with co variance average for each hour\n",
    "average = []\n",
    "average2 = []\n",
    "time = []\n",
    "timer = []\n",
    "counter = 0\n",
    "for i in range(len(unique_arrays) - 1):\n",
    "    average.append(sum(unique_arrays[new_string_values[i]]) / len(unique_arrays[new_string_values[i]]))\n",
    "    hour_minute_second = new_string_values[i].split(':')\n",
    "    hour = int(hour_minute_second[0])\n",
    "    minute = int(hour_minute_second[1])\n",
    "    '''time.append(hour * 60 + minute)\n",
    "    if i % 4 == 0 and i > 4:\n",
    "        timer.append(counter) \n",
    "        average2.append((average[i- 1] + average[i - 2] + average[i - 3] + average[i - 4]) / 4)\n",
    "        print(timer[counter], average2[counter])\n",
    "        counter += 1'''\n",
    "    time.append(hour * 1000 + minute)\n",
    "    #print(new_string_values[i], sum(unique_arrays[new_string_values[i]]) / len(unique_arrays[new_string_values[i]]))\n",
    "    i += 1\n",
    "plt.plot(time,average, '.')\n",
    "plt.ylabel('Average CO level')\n",
    "plt.xlabel('Time')\n",
    "plt.title('Co Variance during 24H')\n",
    "plt.xlim(-1000, 24000)\n",
    "plt.show()"
   ]
  },
  {
   "cell_type": "code",
   "execution_count": 52,
   "metadata": {},
   "outputs": [
    {
     "name": "stdout",
     "output_type": "stream",
     "text": [
      "Result file 'values.csv' created.\n"
     ]
    }
   ],
   "source": [
    "#create a new csv file with the average values and timestamp\n",
    "import pandas as pd\n",
    "\n",
    "jump = 4\n",
    "result_data = []\n",
    "\n",
    "for i in range(0, 95, jump):\n",
    "    timestamp = new_string_values[i]\n",
    "    avg_value = average[i]\n",
    "    result_data.append((timestamp, avg_value))\n",
    "\n",
    "# Create a DataFrame\n",
    "result_df = pd.DataFrame(result_data, columns=['Timestamp', 'AverageValue'])\n",
    "\n",
    "# Save the DataFrame to a CSV file\n",
    "result_df.to_csv('averageByHour.csv', index=False)\n",
    "\n",
    "print(\"Result file 'values.csv' created.\")\n"
   ]
  },
  {
   "cell_type": "code",
   "execution_count": 2,
   "metadata": {},
   "outputs": [
    {
     "name": "stdout",
     "output_type": "stream",
     "text": [
      "Result file 'map.html' created.\n"
     ]
    }
   ],
   "source": [
    "# create a map with the coordinates of the road constrains and the air quality data\n",
    "import folium\n",
    "import pandas as pd\n",
    "import random\n",
    "\n",
    "# Read the CSV file\n",
    "df = pd.read_csv('roadConstrains.csv')\n",
    "\n",
    "# Convert latitude and longitude to numeric values\n",
    "df['latitude'] = pd.to_numeric(df['latitude'], errors='coerce')\n",
    "df['longitude'] = pd.to_numeric(df['longitude'], errors='coerce')\n",
    "\n",
    "# Drop rows with missing latitude or longitude values\n",
    "df = df.dropna(subset=['latitude', 'longitude'])\n",
    "\n",
    "# Check if there are still rows in the DataFrame\n",
    "if not df.empty:\n",
    "    # Create a folium map centered at the mean of the coordinates\n",
    "    map_center = [df['latitude'].mean(), df['longitude'].mean()]\n",
    "    mymap = folium.Map(location=map_center, zoom_start=13.2)\n",
    "\n",
    "    # Add markers for each event in the DataFrame with random colors\n",
    "    for index, row in df.iterrows():\n",
    "        # Generate a random color (orange, green, or red)\n",
    "        color = random.choice(['orange', 'green', 'red'])\n",
    "\n",
    "        # Create an Icon with the specified color\n",
    "        icon = folium.Icon(color=color)\n",
    "\n",
    "        # Add marker to the map using the Icon\n",
    "        folium.Marker(location=[row['latitude'], row['longitude']], popup=row['subCategory'], icon=icon).add_to(mymap)\n",
    "\n",
    "    # Save the map as an HTML file\n",
    "    mymap.save('map.html')\n",
    "    print(\"Result file 'map.html' created.\")\n",
    "    \n",
    "else:\n",
    "    print(\"No valid coordinates found in the CSV.\")"
   ]
  }
 ],
 "metadata": {
  "kernelspec": {
   "display_name": "labelImg_39",
   "language": "python",
   "name": "python3"
  },
  "language_info": {
   "codemirror_mode": {
    "name": "ipython",
    "version": 3
   },
   "file_extension": ".py",
   "mimetype": "text/x-python",
   "name": "python",
   "nbconvert_exporter": "python",
   "pygments_lexer": "ipython3",
   "version": "3.10.12"
  }
 },
 "nbformat": 4,
 "nbformat_minor": 2
}
